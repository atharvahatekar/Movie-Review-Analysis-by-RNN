{
 "cells": [
  {
   "cell_type": "code",
   "execution_count": 25,
   "metadata": {},
   "outputs": [],
   "source": [
    "# Step 1: Import Libraries and Load the Model\n",
    "import numpy as np\n",
    "import tensorflow as tf\n",
    "from tensorflow.keras.datasets import imdb\n",
    "from tensorflow.keras.preprocessing import sequence\n",
    "from tensorflow.keras.models import load_model"
   ]
  },
  {
   "cell_type": "code",
   "execution_count": 26,
   "metadata": {},
   "outputs": [],
   "source": [
    "\n",
    "# Load the IMDB dataset word index\n",
    "word_index = imdb.get_word_index()\n",
    "reverse_word_index = {value: key for key, value in word_index.items()}"
   ]
  },
  {
   "cell_type": "code",
   "execution_count": 27,
   "metadata": {},
   "outputs": [
    {
     "name": "stderr",
     "output_type": "stream",
     "text": [
      "WARNING:absl:Compiled the loaded model, but the compiled metrics have yet to be built. `model.compile_metrics` will be empty until you train or evaluate the model.\n"
     ]
    },
    {
     "data": {
      "text/html": [
       "<pre style=\"white-space:pre;overflow-x:auto;line-height:normal;font-family:Menlo,'DejaVu Sans Mono',consolas,'Courier New',monospace\"><span style=\"font-weight: bold\">Model: \"sequential_2\"</span>\n",
       "</pre>\n"
      ],
      "text/plain": [
       "\u001b[1mModel: \"sequential_2\"\u001b[0m\n"
      ]
     },
     "metadata": {},
     "output_type": "display_data"
    },
    {
     "data": {
      "text/html": [
       "<pre style=\"white-space:pre;overflow-x:auto;line-height:normal;font-family:Menlo,'DejaVu Sans Mono',consolas,'Courier New',monospace\">┏━━━━━━━━━━━━━━━━━━━━━━━━━━━━━━━━━┳━━━━━━━━━━━━━━━━━━━━━━━━┳━━━━━━━━━━━━━━━┓\n",
       "┃<span style=\"font-weight: bold\"> Layer (type)                    </span>┃<span style=\"font-weight: bold\"> Output Shape           </span>┃<span style=\"font-weight: bold\">       Param # </span>┃\n",
       "┡━━━━━━━━━━━━━━━━━━━━━━━━━━━━━━━━━╇━━━━━━━━━━━━━━━━━━━━━━━━╇━━━━━━━━━━━━━━━┩\n",
       "│ embedding_2 (<span style=\"color: #0087ff; text-decoration-color: #0087ff\">Embedding</span>)         │ (<span style=\"color: #00af00; text-decoration-color: #00af00\">16</span>, <span style=\"color: #00af00; text-decoration-color: #00af00\">500</span>, <span style=\"color: #00af00; text-decoration-color: #00af00\">128</span>)         │     <span style=\"color: #00af00; text-decoration-color: #00af00\">1,280,000</span> │\n",
       "├─────────────────────────────────┼────────────────────────┼───────────────┤\n",
       "│ simple_rnn_3 (<span style=\"color: #0087ff; text-decoration-color: #0087ff\">SimpleRNN</span>)        │ (<span style=\"color: #00af00; text-decoration-color: #00af00\">16</span>, <span style=\"color: #00af00; text-decoration-color: #00af00\">64</span>)               │        <span style=\"color: #00af00; text-decoration-color: #00af00\">12,352</span> │\n",
       "├─────────────────────────────────┼────────────────────────┼───────────────┤\n",
       "│ dense_2 (<span style=\"color: #0087ff; text-decoration-color: #0087ff\">Dense</span>)                 │ (<span style=\"color: #00af00; text-decoration-color: #00af00\">16</span>, <span style=\"color: #00af00; text-decoration-color: #00af00\">1</span>)                │            <span style=\"color: #00af00; text-decoration-color: #00af00\">65</span> │\n",
       "└─────────────────────────────────┴────────────────────────┴───────────────┘\n",
       "</pre>\n"
      ],
      "text/plain": [
       "┏━━━━━━━━━━━━━━━━━━━━━━━━━━━━━━━━━┳━━━━━━━━━━━━━━━━━━━━━━━━┳━━━━━━━━━━━━━━━┓\n",
       "┃\u001b[1m \u001b[0m\u001b[1mLayer (type)                   \u001b[0m\u001b[1m \u001b[0m┃\u001b[1m \u001b[0m\u001b[1mOutput Shape          \u001b[0m\u001b[1m \u001b[0m┃\u001b[1m \u001b[0m\u001b[1m      Param #\u001b[0m\u001b[1m \u001b[0m┃\n",
       "┡━━━━━━━━━━━━━━━━━━━━━━━━━━━━━━━━━╇━━━━━━━━━━━━━━━━━━━━━━━━╇━━━━━━━━━━━━━━━┩\n",
       "│ embedding_2 (\u001b[38;5;33mEmbedding\u001b[0m)         │ (\u001b[38;5;34m16\u001b[0m, \u001b[38;5;34m500\u001b[0m, \u001b[38;5;34m128\u001b[0m)         │     \u001b[38;5;34m1,280,000\u001b[0m │\n",
       "├─────────────────────────────────┼────────────────────────┼───────────────┤\n",
       "│ simple_rnn_3 (\u001b[38;5;33mSimpleRNN\u001b[0m)        │ (\u001b[38;5;34m16\u001b[0m, \u001b[38;5;34m64\u001b[0m)               │        \u001b[38;5;34m12,352\u001b[0m │\n",
       "├─────────────────────────────────┼────────────────────────┼───────────────┤\n",
       "│ dense_2 (\u001b[38;5;33mDense\u001b[0m)                 │ (\u001b[38;5;34m16\u001b[0m, \u001b[38;5;34m1\u001b[0m)                │            \u001b[38;5;34m65\u001b[0m │\n",
       "└─────────────────────────────────┴────────────────────────┴───────────────┘\n"
      ]
     },
     "metadata": {},
     "output_type": "display_data"
    },
    {
     "data": {
      "text/html": [
       "<pre style=\"white-space:pre;overflow-x:auto;line-height:normal;font-family:Menlo,'DejaVu Sans Mono',consolas,'Courier New',monospace\"><span style=\"font-weight: bold\"> Total params: </span><span style=\"color: #00af00; text-decoration-color: #00af00\">1,292,419</span> (4.93 MB)\n",
       "</pre>\n"
      ],
      "text/plain": [
       "\u001b[1m Total params: \u001b[0m\u001b[38;5;34m1,292,419\u001b[0m (4.93 MB)\n"
      ]
     },
     "metadata": {},
     "output_type": "display_data"
    },
    {
     "data": {
      "text/html": [
       "<pre style=\"white-space:pre;overflow-x:auto;line-height:normal;font-family:Menlo,'DejaVu Sans Mono',consolas,'Courier New',monospace\"><span style=\"font-weight: bold\"> Trainable params: </span><span style=\"color: #00af00; text-decoration-color: #00af00\">1,292,417</span> (4.93 MB)\n",
       "</pre>\n"
      ],
      "text/plain": [
       "\u001b[1m Trainable params: \u001b[0m\u001b[38;5;34m1,292,417\u001b[0m (4.93 MB)\n"
      ]
     },
     "metadata": {},
     "output_type": "display_data"
    },
    {
     "data": {
      "text/html": [
       "<pre style=\"white-space:pre;overflow-x:auto;line-height:normal;font-family:Menlo,'DejaVu Sans Mono',consolas,'Courier New',monospace\"><span style=\"font-weight: bold\"> Non-trainable params: </span><span style=\"color: #00af00; text-decoration-color: #00af00\">0</span> (0.00 B)\n",
       "</pre>\n"
      ],
      "text/plain": [
       "\u001b[1m Non-trainable params: \u001b[0m\u001b[38;5;34m0\u001b[0m (0.00 B)\n"
      ]
     },
     "metadata": {},
     "output_type": "display_data"
    },
    {
     "data": {
      "text/html": [
       "<pre style=\"white-space:pre;overflow-x:auto;line-height:normal;font-family:Menlo,'DejaVu Sans Mono',consolas,'Courier New',monospace\"><span style=\"font-weight: bold\"> Optimizer params: </span><span style=\"color: #00af00; text-decoration-color: #00af00\">2</span> (12.00 B)\n",
       "</pre>\n"
      ],
      "text/plain": [
       "\u001b[1m Optimizer params: \u001b[0m\u001b[38;5;34m2\u001b[0m (12.00 B)\n"
      ]
     },
     "metadata": {},
     "output_type": "display_data"
    }
   ],
   "source": [
    "# Load the pre-trained model with ReLU activation\n",
    "model = load_model('simple_rnn_imdb.h5')\n",
    "model.summary()"
   ]
  },
  {
   "cell_type": "code",
   "execution_count": 28,
   "metadata": {},
   "outputs": [
    {
     "data": {
      "text/plain": [
       "[array([[-0.37746242,  0.46502838, -0.2591995 , ..., -0.20594336,\n",
       "          0.3260976 , -0.24735697],\n",
       "        [-0.02540328,  0.04595235, -0.04776234, ...,  0.01934965,\n",
       "          0.00439844, -0.03762726],\n",
       "        [-0.1048703 ,  0.06907807, -0.04337197, ..., -0.09575335,\n",
       "          0.10902065, -0.08359368],\n",
       "        ...,\n",
       "        [ 0.11445892,  0.04596046,  0.02829837, ...,  0.07007675,\n",
       "         -0.04355357, -0.10264116],\n",
       "        [ 0.03175306, -0.02014842, -0.03435008, ..., -0.08304343,\n",
       "         -0.00108797,  0.05251204],\n",
       "        [ 0.09878431, -0.03151217,  0.03804731, ...,  0.02432062,\n",
       "         -0.07954498,  0.03252752]], dtype=float32),\n",
       " array([[-3.84554975e-02,  6.55487627e-02,  1.36040807e-01, ...,\n",
       "         -1.02078654e-01, -9.19535849e-03, -1.36143848e-01],\n",
       "        [ 1.45343721e-01, -7.34422356e-02,  4.49254885e-02, ...,\n",
       "         -1.92060806e-02, -7.04196766e-02, -1.66867837e-01],\n",
       "        [-1.83295771e-01, -4.34653945e-02,  1.97362024e-02, ...,\n",
       "          9.12237540e-02,  1.50464345e-02, -1.57592133e-01],\n",
       "        ...,\n",
       "        [-2.55118906e-02,  5.73409460e-02,  9.07071084e-02, ...,\n",
       "          5.57381609e-05, -1.30930603e-01,  1.50575936e-01],\n",
       "        [ 1.09941639e-01, -3.79287302e-02,  4.66636680e-02, ...,\n",
       "          1.30750209e-01,  5.06946892e-02,  3.77703011e-02],\n",
       "        [-2.56423913e-02,  1.00397766e-01,  9.04027000e-02, ...,\n",
       "          6.75316453e-02,  1.75869033e-01,  1.71199083e-01]], dtype=float32),\n",
       " array([[-0.01495871, -0.24704933,  0.31336978, ...,  0.09729888,\n",
       "         -0.00725489, -0.04438363],\n",
       "        [-0.01736741, -0.13574691,  0.12831679, ..., -0.01754087,\n",
       "          0.00891503, -0.04454369],\n",
       "        [ 0.07991401,  0.17279263,  0.0841636 , ..., -0.08945727,\n",
       "         -0.28019145,  0.05248504],\n",
       "        ...,\n",
       "        [ 0.18905298, -0.00390442,  0.12276914, ..., -0.19191562,\n",
       "         -0.16048127, -0.18945016],\n",
       "        [-0.04127077, -0.02268292, -0.04036219, ..., -0.01930232,\n",
       "          0.11268511, -0.13813643],\n",
       "        [ 0.31360102,  0.0135529 , -0.07143389, ..., -0.17981751,\n",
       "         -0.34069878,  0.04548386]], dtype=float32),\n",
       " array([ 0.03452024,  0.0059774 , -0.0440511 , -0.01586998,  0.02364246,\n",
       "         0.014881  ,  0.02072466,  0.0166648 ,  0.02938174,  0.00572644,\n",
       "        -0.02504931,  0.07146803,  0.03927744,  0.05853427, -0.03310031,\n",
       "        -0.00369424, -0.02644377,  0.04448871, -0.01611955, -0.04400007,\n",
       "         0.00704001, -0.03056898,  0.06297966,  0.00563274, -0.01541015,\n",
       "        -0.01867232,  0.01891372, -0.0422194 ,  0.06355033, -0.0375507 ,\n",
       "         0.02350699, -0.03053255, -0.04944976,  0.04801134,  0.00775966,\n",
       "         0.04492014, -0.04704583, -0.02544895,  0.02495435, -0.02552729,\n",
       "        -0.02122656, -0.03988089, -0.02719554, -0.01864596, -0.04040655,\n",
       "        -0.04043169, -0.04143724,  0.04185979, -0.00480069, -0.04642972,\n",
       "        -0.02677645,  0.02254117, -0.03544265,  0.05378141, -0.0151729 ,\n",
       "         0.05305015, -0.03068907,  0.00319191, -0.02187555, -0.02787368,\n",
       "        -0.00276685, -0.00698064, -0.04198411, -0.00028507], dtype=float32),\n",
       " array([[ 0.9871848 ],\n",
       "        [-0.26664212],\n",
       "        [-0.08248514],\n",
       "        [ 0.18258497],\n",
       "        [ 0.2681301 ],\n",
       "        [-0.36734432],\n",
       "        [-0.39538488],\n",
       "        [-0.29912436],\n",
       "        [-0.39567307],\n",
       "        [ 0.26209167],\n",
       "        [-0.25040153],\n",
       "        [ 0.21956143],\n",
       "        [ 0.3376377 ],\n",
       "        [-0.12317915],\n",
       "        [-0.00597147],\n",
       "        [ 0.2755736 ],\n",
       "        [ 0.0884705 ],\n",
       "        [-0.0461174 ],\n",
       "        [ 0.11652058],\n",
       "        [-0.08772673],\n",
       "        [ 0.12432329],\n",
       "        [-0.24803537],\n",
       "        [-0.19012392],\n",
       "        [-0.30766678],\n",
       "        [ 0.27794194],\n",
       "        [ 0.2630867 ],\n",
       "        [-0.33493865],\n",
       "        [-0.24656881],\n",
       "        [-0.17873217],\n",
       "        [ 0.10810635],\n",
       "        [-0.05714954],\n",
       "        [ 0.14649463],\n",
       "        [ 0.44516787],\n",
       "        [-0.30662116],\n",
       "        [ 0.13123944],\n",
       "        [ 0.28760758],\n",
       "        [-0.30385298],\n",
       "        [-0.26491278],\n",
       "        [-0.00612923],\n",
       "        [ 0.24865589],\n",
       "        [-0.09129918],\n",
       "        [ 0.22404288],\n",
       "        [ 0.21909827],\n",
       "        [-0.09808692],\n",
       "        [ 0.24085787],\n",
       "        [ 0.32239738],\n",
       "        [ 0.2057253 ],\n",
       "        [ 0.34152588],\n",
       "        [-0.33037132],\n",
       "        [ 0.26414943],\n",
       "        [ 0.52367556],\n",
       "        [-0.09493724],\n",
       "        [ 0.11927187],\n",
       "        [-0.07036404],\n",
       "        [ 0.10529427],\n",
       "        [-0.1654508 ],\n",
       "        [-0.01229313],\n",
       "        [ 0.28242585],\n",
       "        [ 0.06801184],\n",
       "        [ 0.0879048 ],\n",
       "        [ 0.16165698],\n",
       "        [ 0.006759  ],\n",
       "        [-0.11339223],\n",
       "        [ 0.25454625]], dtype=float32),\n",
       " array([0.86671823], dtype=float32)]"
      ]
     },
     "execution_count": 28,
     "metadata": {},
     "output_type": "execute_result"
    }
   ],
   "source": [
    "model.get_weights()"
   ]
  },
  {
   "cell_type": "code",
   "execution_count": 29,
   "metadata": {},
   "outputs": [],
   "source": [
    "# Step 2: Helper Functions\n",
    "# Function to decode reviews\n",
    "def decode_review(encoded_review):\n",
    "    return ' '.join([reverse_word_index.get(i - 3, '?') for i in encoded_review])\n",
    "\n",
    "# Function to preprocess user input\n",
    "def preprocess_text(text):\n",
    "    words = text.lower().split()\n",
    "    encoded_review = [word_index.get(word, 2) + 3 for word in words]\n",
    "    padded_review = sequence.pad_sequences([encoded_review], maxlen=500)\n",
    "    return padded_review"
   ]
  },
  {
   "cell_type": "code",
   "execution_count": 30,
   "metadata": {},
   "outputs": [],
   "source": [
    "### Prediction  function\n",
    "\n",
    "def predict_sentiment(review):\n",
    "    preprocessed_input=preprocess_text(review)\n",
    "\n",
    "    prediction=model.predict(preprocessed_input)\n",
    "\n",
    "    sentiment = 'Positive' if prediction[0][0] > 0.5 else 'Negative'\n",
    "    \n",
    "    return sentiment, prediction[0][0]\n",
    "\n"
   ]
  },
  {
   "cell_type": "code",
   "execution_count": 32,
   "metadata": {},
   "outputs": [
    {
     "name": "stdout",
     "output_type": "stream",
     "text": [
      "\u001b[1m1/1\u001b[0m \u001b[32m━━━━━━━━━━━━━━━━━━━━\u001b[0m\u001b[37m\u001b[0m \u001b[1m0s\u001b[0m 48ms/step\n",
      "Review: This movie was fantastic! The acting was great and the plot was thrilling.\n",
      "Sentiment: Positive\n",
      "Prediction Score: 0.8237180709838867\n"
     ]
    }
   ],
   "source": [
    "# Step 4: User Input and Prediction\n",
    "# Example review for prediction\n",
    "example_review = \"This movie was fantastic! The acting was great and the plot was thrilling.\"\n",
    "\n",
    "sentiment,score=predict_sentiment(example_review)\n",
    "\n",
    "print(f'Review: {example_review}')\n",
    "print(f'Sentiment: {sentiment}')\n",
    "print(f'Prediction Score: {score}')"
   ]
  },
  {
   "cell_type": "code",
   "execution_count": null,
   "metadata": {},
   "outputs": [],
   "source": []
  }
 ],
 "metadata": {
  "kernelspec": {
   "display_name": ".venv",
   "language": "python",
   "name": "python3"
  },
  "language_info": {
   "codemirror_mode": {
    "name": "ipython",
    "version": 3
   },
   "file_extension": ".py",
   "mimetype": "text/x-python",
   "name": "python",
   "nbconvert_exporter": "python",
   "pygments_lexer": "ipython3",
   "version": "3.11.9"
  }
 },
 "nbformat": 4,
 "nbformat_minor": 2
}
